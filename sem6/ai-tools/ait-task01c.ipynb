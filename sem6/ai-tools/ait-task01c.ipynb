{
 "cells": [
  {
   "cell_type": "markdown",
   "metadata": {},
   "source": [
    "### Preprocessing danych + EDA\n",
    "```yaml\n",
    "task-No:  \t1\n",
    "topic:    \t\"Preprocessing danych + EDA\"\n",
    "author:   \t\"BO$\"\n",
    "date:     \t05.03.2024\n",
    "copyright: \t\"All rights reserved (c) 2024 WEEK-END DEVELOPMENT\"\n",
    "```"
   ]
  },
  {
   "cell_type": "code",
   "execution_count": null,
   "metadata": {},
   "outputs": [],
   "source": [
    "import pandas as pd\n",
    "import numpy as np\n",
    "import seaborn as sns\n",
    "import json, datetime, math\n",
    "import matplotlib\n",
    "import matplotlib.pyplot as plt\n",
    "import matplotlib.mlab as mlab\n",
    "from datetime import timedelta, datetime\n",
    "from matplotlib.pyplot import figure\n",
    "plt.style.use('ggplot')\n",
    "%matplotlib inline\n",
    "matplotlib.rcParams['figure.figsize'] = (12,8)\n",
    "pd.options.mode.chained_assignment = None"
   ]
  },
  {
   "cell_type": "code",
   "execution_count": null,
   "metadata": {},
   "outputs": [],
   "source": [
    "# Wczytanie danych\n",
    "df = pd.read_pickle('sydney.pkl')\n",
    "print(df)\n",
    "print(df.columns)"
   ]
  },
  {
   "cell_type": "markdown",
   "metadata": {},
   "source": [
    "#### TODO\n",
    "1. Ile zazwyczaj spalono kalorii podczas filmu?\n",
    "2. Na jakich obszarach ciała najczęściej koncentruja się treningi?\n",
    "3. Czy treningi częściej dotyczą kardio czy siły?\n",
    "4. Czy treningi częściej dotyczą tabaty czy jogi?\n",
    "5. Ile kalorii można spalić podczas najpopularniejszego filmu?\n",
    "6. Czy liczba spalonych kalorii jest zależna od długości filmy?\n",
    "7. W którym dniu tygodnia oglądający chcą spalić najmniej, a w którym najwięcej kalorii? (boxplot/swamplot)\n",
    "8. W które dni oglądane są najdłuższe filmy z treningami? (boxplot/swamplot)"
   ]
  },
  {
   "cell_type": "code",
   "execution_count": null,
   "metadata": {},
   "outputs": [],
   "source": [
    "# 1\n",
    "sns.relplot(x='length', y='calories', data=df, aspect=2.0)"
   ]
  },
  {
   "cell_type": "code",
   "execution_count": null,
   "metadata": {},
   "outputs": [],
   "source": [
    "# 2\n",
    "df_area_workout = df.groupby(['workout_type']).size().reset_index(name='count')\n",
    "df_area_workout_sorted = df_area_workout.sort_values(by='count', ascending=False)\n",
    "result_df = df_area_workout_sorted[['workout_type', 'count']]\n",
    "print(result_df)"
   ]
  },
  {
   "cell_type": "code",
   "execution_count": null,
   "metadata": {},
   "outputs": [],
   "source": [
    "# 3\n",
    "count_cardio = result_df[result_df['workout_type'].str.contains('cardio')]['count'].sum()\n",
    "count_strength = result_df[result_df['workout_type'].str.contains('strength')]['count'].sum()\n",
    "print(\"Suma 'Cardio':\", count_cardio)\n",
    "print(\"Suma 'Strength':\", count_strength)"
   ]
  },
  {
   "cell_type": "code",
   "execution_count": null,
   "metadata": {},
   "outputs": [],
   "source": [
    "# 4\n",
    "count_cardio = result_df[result_df['workout_type'].str.contains('tabata')]['count'].sum()\n",
    "count_strength = result_df[result_df['workout_type'].str.contains('yoga')]['count'].sum()\n",
    "print(\"Suma 'Cardio':\", count_cardio)\n",
    "print(\"Suma 'Strength':\", count_strength)"
   ]
  },
  {
   "cell_type": "code",
   "execution_count": null,
   "metadata": {},
   "outputs": [],
   "source": [
    "print(df.columns)"
   ]
  },
  {
   "cell_type": "code",
   "execution_count": null,
   "metadata": {},
   "outputs": [],
   "source": [
    "# 5\n",
    "max_view_index = df['views'].idxmax()\n",
    "max_calorie_value = df.loc[max_view_index, 'calories']\n",
    "print(\"Najpopularniejszy film:\", df.loc[max_view_index, 'title'])\n",
    "print(\"Wartość z kolumny 'calorie':\", max_calorie_value)"
   ]
  },
  {
   "cell_type": "code",
   "execution_count": null,
   "metadata": {},
   "outputs": [],
   "source": [
    "# 6\n",
    "sns.pairplot(df, vars=[\"calories\", \"length\"])"
   ]
  },
  {
   "cell_type": "code",
   "execution_count": null,
   "metadata": {},
   "outputs": [],
   "source": [
    "# 7\n",
    "sns.boxplot(x=\"day_of_week\", y=\"calories\", data=df[msk], order=order)"
   ]
  },
  {
   "cell_type": "code",
   "execution_count": null,
   "metadata": {},
   "outputs": [],
   "source": [
    "# 8\n",
    "sns.swarmplot(x='day_of_week', y='length', data=df)"
   ]
  }
 ],
 "metadata": {
  "kernelspec": {
   "display_name": "Python 3",
   "language": "python",
   "name": "python3"
  },
  "language_info": {
   "codemirror_mode": {
    "name": "ipython",
    "version": 3
   },
   "file_extension": ".py",
   "mimetype": "text/x-python",
   "name": "python",
   "nbconvert_exporter": "python",
   "pygments_lexer": "ipython3",
   "version": "3.11.6"
  }
 },
 "nbformat": 4,
 "nbformat_minor": 2
}
